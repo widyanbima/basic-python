{
 "cells": [
  {
   "cell_type": "markdown",
   "metadata": {},
   "source": [
    "# Class pada Python"
   ]
  },
  {
   "cell_type": "code",
   "execution_count": 4,
   "metadata": {},
   "outputs": [
    {
     "name": "stdout",
     "output_type": "stream",
     "text": [
      "Nama:  Neymar Nomor Punggung:  45\n"
     ]
    }
   ],
   "source": [
    "class Pemain:\n",
    "    pass\n",
    "\n",
    "obj = Pemain()\n",
    "obj.nama = \"Neymar\"\n",
    "obj.no_punggung = \"45\"\n",
    "print('Nama: ', obj.nama, 'Nomor Punggung: ', obj.no_punggung)"
   ]
  },
  {
   "cell_type": "markdown",
   "metadata": {},
   "source": [
    "## __Init__"
   ]
  },
  {
   "cell_type": "code",
   "execution_count": 5,
   "metadata": {},
   "outputs": [
    {
     "name": "stdout",
     "output_type": "stream",
     "text": [
      "Neymar\n",
      "40\n"
     ]
    }
   ],
   "source": [
    "class Pemain:\n",
    "    def __init__(self):\n",
    "        self.name = \"Neymar\"\n",
    "        self.umur = \"40\"\n",
    "\n",
    "pemain = Pemain()\n",
    "print(pemain.name)\n",
    "print(pemain.umur)"
   ]
  },
  {
   "cell_type": "code",
   "execution_count": 7,
   "metadata": {},
   "outputs": [
    {
     "name": "stdout",
     "output_type": "stream",
     "text": [
      "Namanya adalah CR Umurnya adalah 35 Powernya adalah 92 No Punggungnya adalah 1\n"
     ]
    }
   ],
   "source": [
    "class Pemain:\n",
    "    nama = ''\n",
    "    umur = ''\n",
    "    power = ''\n",
    "    no_punggung = ''\n",
    "\n",
    "    def __init__(self, nama, umur, power, no_punggung):\n",
    "        self.nama = nama\n",
    "        self.umur = umur\n",
    "        self.power = power\n",
    "        self.no_punggung = no_punggung\n",
    "    \n",
    "    def getNama(self):\n",
    "        return \"Namanya adalah \" + self.nama\n",
    "    \n",
    "    def getPower(self):\n",
    "        return \"Powernya adalah \" + self.power\n",
    "    \n",
    "    def getUmur(self):\n",
    "        return \"Umurnya adalah \" + self.umur\n",
    "    def getNoPunggung(self):\n",
    "        return \"No Punggungnya adalah \" + self.no_punggung\n",
    "\n",
    "\n",
    "\n",
    "\n",
    "\n",
    "pemain = Pemain('Neymar', '40', '90', '20')\n",
    "pemain2 = Pemain('CR', '35', '92', '1')\n",
    "# print(pemain.nama)\n",
    "# print(pemain.umur)\n",
    "# print(pemain.getName())\n",
    "# print(pemain.getPower())\n",
    "# print(pemain.getUmur())\n",
    "# print(pemain.GetNoPunggung())\n",
    "print(pemain2.getNama(), pemain2.getUmur(), pemain2.getPower(), pemain2.getNoPunggung())"
   ]
  },
  {
   "cell_type": "markdown",
   "metadata": {},
   "source": [
    "## Inheritance"
   ]
  },
  {
   "cell_type": "code",
   "execution_count": 8,
   "metadata": {},
   "outputs": [],
   "source": [
    "# class IndoPlayer(Pemain):\n",
    "#     def GetCitizen(self, ctzn):\n",
    "#         return \"Dia orang \" + ctzn\n",
    "\n",
    "# indPlayer = IndoPlayer('Boaz', '35', '80', '10')\n",
    "# print(indPlayer.getName(), indPlayer.GetCitizen('Indonesia'))"
   ]
  },
  {
   "cell_type": "code",
   "execution_count": 11,
   "metadata": {},
   "outputs": [
    {
     "name": "stdout",
     "output_type": "stream",
     "text": [
      "Namanya adalah Boaz, Umurnya adalah 10, Powernya adalah 10, Dia Berkewarganegaraan Indonesia, Dia dari provinsi Irian Jaya\n"
     ]
    }
   ],
   "source": [
    "class IndoPlayer(Pemain):\n",
    "    ctzn = ''\n",
    "    province = ''\n",
    "    def __init__(self, nama, umur, power, no_punggung, ctzn, province):\n",
    "        super().__init__(nama, umur, power, no_punggung)\n",
    "        self.ctzn = ctzn\n",
    "        self.province = province\n",
    "    \n",
    "    def getCitizen(self):\n",
    "        return \"Dia Berkewarganegaraan \" + self.ctzn\n",
    "    \n",
    "    def getProvince(self):\n",
    "        return \"Dia dari provinsi \" + self.province\n",
    "\n",
    "ind = IndoPlayer('Boaz', '10', '10', '10', 'Indonesia', 'Irian Jaya')\n",
    "print(ind.getNama(), ind.getUmur(), ind.getPower(), ind.getCitizen(), ind.getProvince(), sep=', ')"
   ]
  },
  {
   "cell_type": "code",
   "execution_count": null,
   "metadata": {},
   "outputs": [],
   "source": [
    "# class Player:\n",
    "#     nama = ''\n",
    "#     def __init__(self, nama):\n",
    "#         self.nama = nama\n",
    "\n",
    "# plyr = Player('Mesi')\n",
    "# print(plyr.nama)"
   ]
  },
  {
   "cell_type": "code",
   "execution_count": null,
   "metadata": {},
   "outputs": [],
   "source": [
    "# class PlayerInd(Player):\n",
    "#     def __init__(self, nama):\n",
    "#         super().__init__(nama)\n",
    "#         print('Ini pemain Indonesia')\n",
    "\n",
    "# ind = PlayerInd('Doi')\n",
    "# print(ind.nama)"
   ]
  },
  {
   "cell_type": "code",
   "execution_count": 13,
   "metadata": {},
   "outputs": [
    {
     "name": "stdout",
     "output_type": "stream",
     "text": [
      "Jika dikalikan: 220, jika dibagi: 1.8181818181818181, jika ditambahkan: 22, jika dikurangkan: 9\n"
     ]
    }
   ],
   "source": [
    "class OperasiBilangan:\n",
    "    angka_pertama = ''\n",
    "    angka_kedua = ''\n",
    "\n",
    "    def __init__(self, angka_pertama, angka_kedua):\n",
    "        self.angka_pertama = angka_pertama\n",
    "        self.angka_kedua = angka_kedua\n",
    "    \n",
    "    def getTambah(self):\n",
    "        return self.angka_kedua + self.angka_kedua\n",
    "    def getKali(self):\n",
    "        return self.angka_pertama * self.angka_kedua\n",
    "    def getBagi(self):\n",
    "        return self.angka_pertama / self.angka_kedua\n",
    "    def getKurang(self):\n",
    "        return self.angka_pertama - self.angka_kedua\n",
    "\n",
    "ob = OperasiBilangan(20, 11)\n",
    "print('Jika dikalikan: {}, jika dibagi: {}, jika ditambahkan: {}, jika dikurangkan: {}'.format(ob.getKali(), ob.getBagi(), ob.getTambah(), ob.getKurang()))"
   ]
  },
  {
   "cell_type": "code",
   "execution_count": null,
   "metadata": {},
   "outputs": [],
   "source": []
  }
 ],
 "metadata": {
  "kernelspec": {
   "display_name": "Python 3",
   "language": "python",
   "name": "python3"
  },
  "language_info": {
   "codemirror_mode": {
    "name": "ipython",
    "version": 3
   },
   "file_extension": ".py",
   "mimetype": "text/x-python",
   "name": "python",
   "nbconvert_exporter": "python",
   "pygments_lexer": "ipython3",
   "version": "3.8.5"
  }
 },
 "nbformat": 4,
 "nbformat_minor": 2
}
