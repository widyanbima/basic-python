{
 "cells": [
  {
   "cell_type": "code",
   "execution_count": 1,
   "metadata": {},
   "outputs": [
    {
     "name": "stdout",
     "output_type": "stream",
     "text": [
      "Nama: joko\n",
      "Umur (tahun): 12\n",
      "Tinggi (cm): 134\n",
      "Nama saya joko, umur saya 12 tahun dan tinggi saya 134.0 cm\n"
     ]
    }
   ],
   "source": [
    "nama=input(\"Nama: \")\n",
    "umur=int(input(\"Umur (tahun): \"))\n",
    "tinggi=float(input(\"Tinggi (cm): \"))\n",
    "print(\"Nama saya %s,\" % nama, \"umur saya %s tahun dan\" % umur, \"tinggi saya %s cm\" % tinggi)"
   ]
  },
  {
   "cell_type": "code",
   "execution_count": null,
   "metadata": {},
   "outputs": [],
   "source": []
  }
 ],
 "metadata": {
  "kernelspec": {
   "display_name": "Python 3",
   "language": "python",
   "name": "python3"
  },
  "language_info": {
   "codemirror_mode": {
    "name": "ipython",
    "version": 3
   },
   "file_extension": ".py",
   "mimetype": "text/x-python",
   "name": "python",
   "nbconvert_exporter": "python",
   "pygments_lexer": "ipython3",
   "version": "3.8.5"
  }
 },
 "nbformat": 4,
 "nbformat_minor": 4
}
