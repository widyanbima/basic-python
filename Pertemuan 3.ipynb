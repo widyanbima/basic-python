{
 "cells": [
  {
   "cell_type": "code",
   "execution_count": 1,
   "metadata": {},
   "outputs": [
    {
     "name": "stdout",
     "output_type": "stream",
     "text": [
      "1\n",
      "2\n",
      "3\n",
      "4\n",
      "5\n",
      "6\n",
      "Angka 6 ditemukan\n",
      "7\n",
      "8\n",
      "9\n",
      "10\n"
     ]
    }
   ],
   "source": [
    "#break\n",
    "nums=[1,2,3,4,5,6,7,8,9,10]\n",
    "for number in nums:\n",
    "    print (number)\n",
    "    if number == 6:\n",
    "        print(\"Angka 6 ditemukan\")\n",
    "    "
   ]
  },
  {
   "cell_type": "code",
   "execution_count": 2,
   "metadata": {},
   "outputs": [
    {
     "name": "stdout",
     "output_type": "stream",
     "text": [
      "1\n",
      "2\n",
      "3\n",
      "4\n",
      "5\n",
      "6\n",
      "Angka 6 ditemukan\n"
     ]
    }
   ],
   "source": [
    "nums=[1,2,3,4,5,6,7,8,9,10]\n",
    "for number in nums:\n",
    "    print (number)\n",
    "    if number == 6:\n",
    "        print(\"Angka 6 ditemukan\")\n",
    "        break"
   ]
  },
  {
   "cell_type": "code",
   "execution_count": 3,
   "metadata": {},
   "outputs": [
    {
     "name": "stdout",
     "output_type": "stream",
     "text": [
      "11\n",
      "13\n",
      "15\n",
      "17\n",
      "19\n"
     ]
    }
   ],
   "source": [
    "#continue\n",
    "numb=[11,12,13,14,15,16,17,18,19,20]\n",
    "for n in numb:\n",
    "    if n % 2 == 0 :\n",
    "        continue\n",
    "    print(n)"
   ]
  },
  {
   "cell_type": "code",
   "execution_count": 4,
   "metadata": {},
   "outputs": [],
   "source": [
    "#pass\n",
    "for x in range(1,10):\n",
    "    pass\n",
    "if 9<10:\n",
    "    pass"
   ]
  },
  {
   "cell_type": "markdown",
   "metadata": {},
   "source": [
    "## Function"
   ]
  },
  {
   "cell_type": "code",
   "execution_count": 5,
   "metadata": {},
   "outputs": [
    {
     "name": "stdout",
     "output_type": "stream",
     "text": [
      "Halo, selamat siang!\n",
      "Halo, selamat siang!\n"
     ]
    }
   ],
   "source": [
    "#mendefinisikan function\n",
    "def sapa():\n",
    "    print(\"Halo, selamat siang!\")\n",
    "sapa()\n",
    "sapa()"
   ]
  },
  {
   "cell_type": "code",
   "execution_count": 6,
   "metadata": {},
   "outputs": [
    {
     "name": "stdout",
     "output_type": "stream",
     "text": [
      "Hai,  Rina Selamat Pagi !\n"
     ]
    }
   ],
   "source": [
    "#Argumen dan Parameter\n",
    "def greet(nama,waktu):\n",
    "    print(\"Hai, \", nama,\"Selamat\", waktu, \"!\")\n",
    "greet(\"Rina\", \"Pagi\")"
   ]
  },
  {
   "cell_type": "code",
   "execution_count": 7,
   "metadata": {},
   "outputs": [
    {
     "name": "stdout",
     "output_type": "stream",
     "text": [
      "42\n",
      "110\n",
      "252\n"
     ]
    }
   ],
   "source": [
    "def sums(x,y):\n",
    "    x=x*y\n",
    "    print(x)\n",
    "sums(6,7)\n",
    "sums(10,11)\n",
    "sums(12,21)"
   ]
  },
  {
   "cell_type": "code",
   "execution_count": 9,
   "metadata": {},
   "outputs": [
    {
     "name": "stdout",
     "output_type": "stream",
     "text": [
      "masukkan angka pertama: 89\n",
      "masukkan angka kedua: 90\n",
      "8010\n"
     ]
    }
   ],
   "source": [
    "def sums(x,y):\n",
    "    x=x*y\n",
    "    print(x)\n",
    "masukkan1=int(input(\"masukkan angka pertama: \"))\n",
    "masukkan2=int(input(\"masukkan angka kedua: \"))\n",
    "sums(masukkan1,masukkan2)\n"
   ]
  },
  {
   "cell_type": "code",
   "execution_count": 10,
   "metadata": {},
   "outputs": [
    {
     "name": "stdout",
     "output_type": "stream",
     "text": [
      "Halo\n"
     ]
    },
    {
     "data": {
      "text/plain": [
       "10"
      ]
     },
     "execution_count": 10,
     "metadata": {},
     "output_type": "execute_result"
    }
   ],
   "source": [
    "#return\n",
    "def func():\n",
    "    print(\"Halo\")\n",
    "    return 7+3\n",
    "func()"
   ]
  },
  {
   "cell_type": "code",
   "execution_count": 13,
   "metadata": {},
   "outputs": [
    {
     "name": "stdout",
     "output_type": "stream",
     "text": [
      "Masukkan angka: 1\n"
     ]
    },
    {
     "data": {
      "text/plain": [
       "10"
      ]
     },
     "execution_count": 13,
     "metadata": {},
     "output_type": "execute_result"
    }
   ],
   "source": [
    "number=int(input(\"Masukkan angka: \"))\n",
    "def angka(x):\n",
    "    if x<=5:\n",
    "        return x*10\n",
    "    else x>5 & x<10:\n",
    "        return x*100\n",
    "angka(number)"
   ]
  },
  {
   "cell_type": "code",
   "execution_count": 15,
   "metadata": {},
   "outputs": [
    {
     "name": "stdout",
     "output_type": "stream",
     "text": [
      "Nama:  Rinna \n",
      "Umur:  18\n"
     ]
    }
   ],
   "source": [
    "#Default parameter\n",
    "#fungsi umur mahasiswa\n",
    "def umur (nama,umur=\"18\"):\n",
    "    print(\"Nama: \", nama, \"\\nUmur: \", umur)\n",
    "umur(\"Rinna\")"
   ]
  },
  {
   "cell_type": "code",
   "execution_count": 17,
   "metadata": {},
   "outputs": [
    {
     "name": "stdout",
     "output_type": "stream",
     "text": [
      "Nama:  Rinna \n",
      "Umur:  30 \n",
      "Status:  Lajang \n",
      "Pekerjaan:  Data Sciencetist\n"
     ]
    }
   ],
   "source": [
    "#KEYWOR PARAMETER\n",
    "def user(nama,umur,status,pekerjaan):\n",
    "    print(\"Nama: \", nama,\"\\nUmur: \", umur,\"\\nStatus: \",status,\"\\nPekerjaan: \", pekerjaan)\n",
    "user(pekerjaan=\"Data Sciencetist\", umur=30, status=\"Lajang\", nama=\"Rinna\")"
   ]
  },
  {
   "cell_type": "code",
   "execution_count": 25,
   "metadata": {},
   "outputs": [
    {
     "name": "stdout",
     "output_type": "stream",
     "text": [
      "25\n"
     ]
    }
   ],
   "source": [
    "#Dictionary\n",
    "users={'nama':\"Terwa\",'umur':\"25\"}\n",
    "print(users['umur'])"
   ]
  },
  {
   "cell_type": "code",
   "execution_count": 30,
   "metadata": {},
   "outputs": [
    {
     "name": "stdout",
     "output_type": "stream",
     "text": [
      "Rinna\n",
      "Budhi\n",
      "dll\n"
     ]
    }
   ],
   "source": [
    "#args & kwargs\n",
    "def args(*nama):\n",
    "    for x in nama:\n",
    "        print(x)\n",
    "args(\"Rinna\",\"Budhi\",\"dll\")"
   ]
  },
  {
   "cell_type": "code",
   "execution_count": 34,
   "metadata": {},
   "outputs": [
    {
     "name": "stdout",
     "output_type": "stream",
     "text": [
      "nama: Tetsu\n",
      "umur: 20\n",
      "Hobi: Basket\n",
      "nama: Tetsa\n",
      "umur: 21\n",
      "Hobi: Piano\n"
     ]
    }
   ],
   "source": [
    "def bio(**data):\n",
    "    for key, value in data.items():\n",
    "        print(key, value, sep=\": \")\n",
    "bio(nama=\"Tetsu\", umur=20, Hobi=\"Basket\")\n",
    "bio(nama=\"Tetsa\", umur=21, Hobi=\"Piano\")"
   ]
  },
  {
   "cell_type": "code",
   "execution_count": 35,
   "metadata": {},
   "outputs": [
    {
     "data": {
      "text/plain": [
       "5.0"
      ]
     },
     "execution_count": 35,
     "metadata": {},
     "output_type": "execute_result"
    }
   ],
   "source": [
    "#lambdafunction\n",
    "bagi=lambda x, y:x/y\n",
    "bagi(10,2)"
   ]
  },
  {
   "cell_type": "code",
   "execution_count": 40,
   "metadata": {},
   "outputs": [
    {
     "name": "stdout",
     "output_type": "stream",
     "text": [
      "[40, 44, 48, 52, 56, 60, 64, 68, 72, 76, 80]\n"
     ]
    }
   ],
   "source": [
    "deret=[10,11,12,13,14,15,16,17,18,19,20]\n",
    "hitung=map(lambda x: x*4,deret)\n",
    "print(list(hitung))"
   ]
  },
  {
   "cell_type": "code",
   "execution_count": 44,
   "metadata": {},
   "outputs": [
    {
     "name": "stdout",
     "output_type": "stream",
     "text": [
      "masukkan: 90\n"
     ]
    }
   ],
   "source": [
    "angka1=int(input(\"masukkan: \"))\n",
    "def numbers():\n",
    "    print(angka1)\n",
    "    angka2=80"
   ]
  },
  {
   "cell_type": "code",
   "execution_count": 45,
   "metadata": {},
   "outputs": [
    {
     "name": "stdout",
     "output_type": "stream",
     "text": [
      "Ini  global scope\n",
      "Ini local scope\n"
     ]
    }
   ],
   "source": [
    "#local and global scope\n",
    "globalscope=\"Ini  global scope\"\n",
    "def gs():\n",
    "    localscope=\"Ini local scope\"\n",
    "    print(globalscope)\n",
    "    print(localscope)\n",
    "gs()"
   ]
  },
  {
   "cell_type": "code",
   "execution_count": 48,
   "metadata": {},
   "outputs": [
    {
     "name": "stdout",
     "output_type": "stream",
     "text": [
      "3.141592653589793\n"
     ]
    }
   ],
   "source": [
    "#module\n",
    "import math as maths\n",
    "\n",
    "pi=maths.pi\n",
    "print(pi)"
   ]
  },
  {
   "cell_type": "code",
   "execution_count": 49,
   "metadata": {},
   "outputs": [
    {
     "name": "stdout",
     "output_type": "stream",
     "text": [
      "3\n"
     ]
    }
   ],
   "source": [
    "akar=math.sqrt(10)\n",
    "print(int(akar))"
   ]
  },
  {
   "cell_type": "code",
   "execution_count": 50,
   "metadata": {},
   "outputs": [
    {
     "name": "stdout",
     "output_type": "stream",
     "text": [
      "win32\n"
     ]
    }
   ],
   "source": [
    "import sys\n",
    "print(sys.platform)"
   ]
  },
  {
   "cell_type": "code",
   "execution_count": 51,
   "metadata": {},
   "outputs": [],
   "source": [
    "import os\n",
    "os.mkdir(\"new\")"
   ]
  },
  {
   "cell_type": "code",
   "execution_count": 61,
   "metadata": {},
   "outputs": [
    {
     "name": "stdout",
     "output_type": "stream",
     "text": [
      "time.struct_time(tm_year=2020, tm_mon=11, tm_mday=14, tm_hour=14, tm_min=56, tm_sec=39, tm_wday=5, tm_yday=319, tm_isdst=0)\n"
     ]
    }
   ],
   "source": [
    "import time\n",
    "print(time.localtime())"
   ]
  },
  {
   "cell_type": "code",
   "execution_count": null,
   "metadata": {},
   "outputs": [],
   "source": []
  }
 ],
 "metadata": {
  "kernelspec": {
   "display_name": "Python 3",
   "language": "python",
   "name": "python3"
  },
  "language_info": {
   "codemirror_mode": {
    "name": "ipython",
    "version": 3
   },
   "file_extension": ".py",
   "mimetype": "text/x-python",
   "name": "python",
   "nbconvert_exporter": "python",
   "pygments_lexer": "ipython3",
   "version": "3.8.5"
  }
 },
 "nbformat": 4,
 "nbformat_minor": 4
}
