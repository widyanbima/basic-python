{
 "cells": [
  {
   "cell_type": "code",
   "execution_count": 9,
   "metadata": {},
   "outputs": [
    {
     "name": "stdout",
     "output_type": "stream",
     "text": [
      "Nilai ujian teori: 45\n",
      "Nilai ujian praktek: 90\n",
      "Anda harus mengulang ujian teori\n"
     ]
    }
   ],
   "source": [
    "teori=int(input(\"Nilai ujian teori: \"))\n",
    "praktek=int(input(\"Nilai ujian praktek: \"))\n",
    "n_teori=teori\n",
    "n_praktek=praktek\n",
    "if n_teori >= 70 and n_praktek >= 70:\n",
    "    print(\"Selamat, anda lulus!\")\n",
    "elif n_teori >= 70 and n_praktek < 70:\n",
    "    print(\"Anda harus mengulang ujian praktek\")\n",
    "elif n_teori < 70 and n_praktek >= 70:\n",
    "    print(\"Anda harus mengulang ujian teori\")\n",
    "else:\n",
    "    print(\"Anda harus mengulang ujian teori dan praktek.\")"
   ]
  }
 ],
 "metadata": {
  "kernelspec": {
   "display_name": "Python 3",
   "language": "python",
   "name": "python3"
  },
  "language_info": {
   "codemirror_mode": {
    "name": "ipython",
    "version": 3
   },
   "file_extension": ".py",
   "mimetype": "text/x-python",
   "name": "python",
   "nbconvert_exporter": "python",
   "pygments_lexer": "ipython3",
   "version": "3.8.5"
  }
 },
 "nbformat": 4,
 "nbformat_minor": 4
}
