{
 "cells": [
  {
   "cell_type": "code",
   "execution_count": 12,
   "metadata": {},
   "outputs": [
    {
     "name": "stdout",
     "output_type": "stream",
     "text": [
      "jari-jari lingkaran (cm) 90\n",
      "Luas lingkaran dengan jari-jari 90.0 cm adalah 25457.142857142855 cm²\n"
     ]
    }
   ],
   "source": [
    "r=float(input(\"jari-jari lingkaran (cm) \"))\n",
    "luas=22/7*r*r\n",
    "print(\"Luas lingkaran dengan jari-jari %s cm\" % r, \"adalah %s cm\\u00b2\" % luas)"
   ]
  }
 ],
 "metadata": {
  "kernelspec": {
   "display_name": "Python 3",
   "language": "python",
   "name": "python3"
  },
  "language_info": {
   "codemirror_mode": {
    "name": "ipython",
    "version": 3
   },
   "file_extension": ".py",
   "mimetype": "text/x-python",
   "name": "python",
   "nbconvert_exporter": "python",
   "pygments_lexer": "ipython3",
   "version": "3.8.5"
  }
 },
 "nbformat": 4,
 "nbformat_minor": 4
}
