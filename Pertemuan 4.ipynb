{
 "cells": [
  {
   "cell_type": "markdown",
   "metadata": {},
   "source": [
    "# Penggabungan Kondisi"
   ]
  },
  {
   "cell_type": "markdown",
   "metadata": {},
   "source": [
    "## And"
   ]
  },
  {
   "cell_type": "code",
   "execution_count": 1,
   "metadata": {},
   "outputs": [
    {
     "name": "stdout",
     "output_type": "stream",
     "text": [
      "Pukul berapa sekarang? 9\n",
      "Selamat pagi!\n"
     ]
    }
   ],
   "source": [
    "#input jam\n",
    "jam=int(input(\"Pukul berapa sekarang? \"))\n",
    "#pagi: 3-11\n",
    "#siang: 11-15\n",
    "#sore: 15- 18\n",
    "#malam : 18- 2 \n",
    "#kondisi\n",
    "if jam >= 3 and jam < 11:\n",
    "    print(\"Selamat pagi!\")\n",
    "elif jam >= 11 and jam <15:\n",
    "    print(\"Selamat siang!\")\n",
    "elif jam >=15 and jam <18:\n",
    "    print(\"Selamat sore!\")\n",
    "else :\n",
    "    print(\"Selamat malam!\")"
   ]
  },
  {
   "cell_type": "code",
   "execution_count": 2,
   "metadata": {},
   "outputs": [
    {
     "name": "stdout",
     "output_type": "stream",
     "text": [
      "Pukul berapa sekarang? 90\n",
      "Selamat malam!\n"
     ]
    }
   ],
   "source": [
    "#shorthand and\n",
    "jam1=int(input(\"Pukul berapa sekarang? \"))\n",
    "if 3 == jam < 11:\n",
    "    print(\"Selamat pagi!\")\n",
    "elif 11 == jam < 15:\n",
    "    print(\"Selamat siang!\")\n",
    "elif 15 == jam < 18:\n",
    "    print(\"Selamat sore!\")\n",
    "else :\n",
    "    print(\"Selamat malam!\")"
   ]
  },
  {
   "cell_type": "code",
   "execution_count": 3,
   "metadata": {},
   "outputs": [
    {
     "name": "stdout",
     "output_type": "stream",
     "text": [
      "Halo\n"
     ]
    }
   ],
   "source": [
    "#shorthand and#\n",
    "angka =5\n",
    "if 4< angka <6:\n",
    "    print(\"Halo\")\n",
    "else:\n",
    "    print(\"Else\")"
   ]
  },
  {
   "cell_type": "markdown",
   "metadata": {},
   "source": [
    "## or"
   ]
  },
  {
   "cell_type": "code",
   "execution_count": 4,
   "metadata": {},
   "outputs": [
    {
     "name": "stdout",
     "output_type": "stream",
     "text": [
      "betul\n"
     ]
    }
   ],
   "source": [
    "#true w/ true\n",
    "if 6<7 or 8<8:\n",
    "    print(\"betul\")"
   ]
  },
  {
   "cell_type": "code",
   "execution_count": 5,
   "metadata": {},
   "outputs": [
    {
     "name": "stdout",
     "output_type": "stream",
     "text": [
      "salah satunya betul\n"
     ]
    }
   ],
   "source": [
    "#true w/ false\n",
    "if 6<7 or 8>9:\n",
    "    print(\"salah satunya betul\")"
   ]
  },
  {
   "cell_type": "markdown",
   "metadata": {},
   "source": [
    "## not"
   ]
  },
  {
   "cell_type": "code",
   "execution_count": 6,
   "metadata": {},
   "outputs": [
    {
     "name": "stdout",
     "output_type": "stream",
     "text": [
      "Halo\n"
     ]
    }
   ],
   "source": [
    "num=6\n",
    "num2=9\n",
    "if not num < num2:\n",
    "    print(\"Hi\")\n",
    "else:\n",
    "    print(\"Halo\")"
   ]
  },
  {
   "cell_type": "code",
   "execution_count": 7,
   "metadata": {},
   "outputs": [
    {
     "name": "stdout",
     "output_type": "stream",
     "text": [
      "False\n"
     ]
    }
   ],
   "source": [
    "x= True\n",
    "print(not x)"
   ]
  },
  {
   "cell_type": "code",
   "execution_count": 8,
   "metadata": {},
   "outputs": [
    {
     "name": "stdout",
     "output_type": "stream",
     "text": [
      "C in li\n"
     ]
    }
   ],
   "source": [
    "li=('A','B','C')\n",
    "if ('C' not in li):\n",
    "    print('C not in li')\n",
    "else:\n",
    "    print('C in li')"
   ]
  },
  {
   "cell_type": "code",
   "execution_count": 9,
   "metadata": {},
   "outputs": [
    {
     "name": "stdout",
     "output_type": "stream",
     "text": [
      "C not in li\n"
     ]
    }
   ],
   "source": [
    "li=('A','B','C')\n",
    "if not 'D' in li:\n",
    "    print('C not in li')\n",
    "else:\n",
    "    print('C in li')"
   ]
  },
  {
   "cell_type": "code",
   "execution_count": 10,
   "metadata": {},
   "outputs": [
    {
     "name": "stdout",
     "output_type": "stream",
     "text": [
      "Masukkan angka: 89\n",
      "89 tidak ada di list\n"
     ]
    }
   ],
   "source": [
    "masukkan=int(input(\"Masukkan angka: \"))\n",
    "li=(1,2,3,4,5,6,7,8,9)\n",
    "if (masukkan not in li):\n",
    "    print(masukkan,\"tidak ada di list\")\n",
    "else:\n",
    "    print(masukkan,\"ada di list\")"
   ]
  },
  {
   "cell_type": "code",
   "execution_count": 12,
   "metadata": {},
   "outputs": [
    {
     "name": "stdout",
     "output_type": "stream",
     "text": [
      "jaka adalah string\n"
     ]
    }
   ],
   "source": [
    "#is\n",
    "ank=\"jaka\"\n",
    "if (type(ank) is str):\n",
    "    print(ank,\"adalah string\")\n",
    "else:\n",
    "    print(ank,\"bukan string\")"
   ]
  },
  {
   "cell_type": "markdown",
   "metadata": {},
   "source": [
    "## random"
   ]
  },
  {
   "cell_type": "code",
   "execution_count": 13,
   "metadata": {},
   "outputs": [
    {
     "name": "stdout",
     "output_type": "stream",
     "text": [
      "55\n"
     ]
    }
   ],
   "source": [
    "from random import randint\n",
    "\n",
    "print(randint(1,100))"
   ]
  },
  {
   "cell_type": "code",
   "execution_count": 18,
   "metadata": {},
   "outputs": [
    {
     "name": "stdout",
     "output_type": "stream",
     "text": [
      "31\n"
     ]
    }
   ],
   "source": [
    "from random import randrange\n",
    "\n",
    "print(randrange(1,50,2))"
   ]
  },
  {
   "cell_type": "markdown",
   "metadata": {},
   "source": [
    "## list"
   ]
  },
  {
   "cell_type": "code",
   "execution_count": 5,
   "metadata": {},
   "outputs": [
    {
     "name": "stdout",
     "output_type": "stream",
     "text": [
      "Bakso\n",
      "Burger\n",
      "['Bakso', 'Soto', 'Mie']\n",
      "['Bakso', 'Soto', 'Mie', 'Rawon']\n"
     ]
    }
   ],
   "source": [
    "list_1=['Bakso','Soto','Mie','Rawon','Nasi Goreng','Pizza','Burger','Hotdog']\n",
    "#memanggil salah satu valuenya\n",
    "print(list_1[0])\n",
    "print(list_1[-2])\n",
    "print(list_1[0:3])\n",
    "print(list_1[:4])"
   ]
  },
  {
   "cell_type": "code",
   "execution_count": 6,
   "metadata": {},
   "outputs": [
    {
     "name": "stdout",
     "output_type": "stream",
     "text": [
      "Rendang\n",
      "Nasi Padang\n",
      "['Bakso', 'Nasi Padang', 'Rendang']\n"
     ]
    }
   ],
   "source": [
    "#mengedit value\n",
    "list_1[2]='Rendang'\n",
    "print(list_1[2])\n",
    "list_1[1]='Nasi Padang'\n",
    "print(list_1[1])\n",
    "print(list_1[0:3])"
   ]
  },
  {
   "cell_type": "code",
   "execution_count": 7,
   "metadata": {},
   "outputs": [
    {
     "name": "stdout",
     "output_type": "stream",
     "text": [
      "['Bakso', 'Nasi Padang', 'Rendang', 'Rawon', 'Nasi Goreng', 'Pizza', 'Burger', 'Hotdog', 'Capcay']\n",
      "['Bakso', 'Nasi Padang', 'Rendang', 'Rawon', 'Nasi Goreng', 'Pizza', 'Burger', 'Hotdog', 'Capcay', 'Geprek']\n"
     ]
    }
   ],
   "source": [
    "#menambahkan value\n",
    "list_1.append('Capcay')\n",
    "print(list_1)\n",
    "list_1.append('Geprek')\n",
    "print(list_1)"
   ]
  },
  {
   "cell_type": "code",
   "execution_count": 8,
   "metadata": {},
   "outputs": [
    {
     "name": "stdout",
     "output_type": "stream",
     "text": [
      "['Bakso', 'Nasi Padang', 'Rendang', 'Rawon', 'Nasi Goreng', 'Pizza', 'Burger', 'Hotdog', 'Geprek']\n"
     ]
    }
   ],
   "source": [
    "#menghapus nilai\n",
    "del list_1[8]\n",
    "print(list_1)"
   ]
  },
  {
   "cell_type": "code",
   "execution_count": 9,
   "metadata": {},
   "outputs": [
    {
     "name": "stdout",
     "output_type": "stream",
     "text": [
      "Saya pesan:Bakso\n",
      "Saya pesan:Nasi Padang\n",
      "Saya pesan:Rendang\n",
      "Saya pesan:Rawon\n",
      "Saya pesan:Nasi Goreng\n",
      "Saya pesan:Pizza\n",
      "Saya pesan:Burger\n",
      "Saya pesan:Hotdog\n",
      "Saya pesan:Geprek\n"
     ]
    }
   ],
   "source": [
    "#looping list\n",
    "for makanan in list_1:\n",
    "    print(\"Saya pesan\", makanan, sep=':')"
   ]
  },
  {
   "cell_type": "markdown",
   "metadata": {},
   "source": [
    "## Dictionary"
   ]
  },
  {
   "cell_type": "code",
   "execution_count": 2,
   "metadata": {},
   "outputs": [
    {
     "name": "stdout",
     "output_type": "stream",
     "text": [
      "{'nama': 'Yanto', 'umur': '22', 'profesi': 'Ilmuwan'}\n"
     ]
    }
   ],
   "source": [
    "bio={'nama':'Yanto','umur':'22', 'profesi':'Ilmuwan'}\n",
    "print(bio)"
   ]
  },
  {
   "cell_type": "code",
   "execution_count": 47,
   "metadata": {},
   "outputs": [
    {
     "name": "stdout",
     "output_type": "stream",
     "text": [
      "Yanto\n",
      "22\n",
      "Ilmuwan\n"
     ]
    }
   ],
   "source": [
    "print(bio['nama'])\n",
    "print(bio['umur'])\n",
    "print(bio['profesi'])"
   ]
  },
  {
   "cell_type": "code",
   "execution_count": 4,
   "metadata": {},
   "outputs": [
    {
     "name": "stdout",
     "output_type": "stream",
     "text": [
      "nama: Yanto\n",
      "umur: 22\n",
      "profesi: Ilmuwan\n"
     ]
    }
   ],
   "source": [
    "for key, value in bio.items():\n",
    "    print(key, value, sep=': ')"
   ]
  },
  {
   "cell_type": "code",
   "execution_count": 49,
   "metadata": {},
   "outputs": [
    {
     "name": "stdout",
     "output_type": "stream",
     "text": [
      "{'nama': 'Yando', 'umur': '23', 'profesi': 'Super Hero'}\n",
      "{'nama': 'Novan', 'umur': '24', 'profesi': 'Anti Hero'}\n",
      "{'nama': 'Sandwe', 'umur': '22', 'profesi': 'Intel'}\n"
     ]
    }
   ],
   "source": [
    "#dictionary bercabang\n",
    "pelanggan={\n",
    "    1:{\n",
    "        'nama':'Yando','umur':'23', 'profesi':'Super Hero'\n",
    "    },\n",
    "    2:{\n",
    "        'nama':'Novan','umur':'24', 'profesi':'Anti Hero'\n",
    "    },\n",
    "    3:{\n",
    "        'nama':'Sandwe','umur':'22', 'profesi':'Intel'\n",
    "    }\n",
    "}\n",
    "print(pelanggan[1])\n",
    "print(pelanggan[2])\n",
    "print(pelanggan[3])"
   ]
  },
  {
   "cell_type": "code",
   "execution_count": 57,
   "metadata": {},
   "outputs": [
    {
     "name": "stdout",
     "output_type": "stream",
     "text": [
      "Pelanggan ke- 1\n",
      "nama: Yando\n",
      "umur: 23\n",
      "profesi: Super Hero\n",
      "\n",
      "Pelanggan ke- 2\n",
      "nama: Novan\n",
      "umur: 24\n",
      "profesi: Anti Hero\n",
      "\n",
      "Pelanggan ke- 3\n",
      "nama: Sandwe\n",
      "umur: 22\n",
      "profesi: Intel\n",
      "\n"
     ]
    }
   ],
   "source": [
    "#looping\n",
    "for key, value in pelanggan.items():\n",
    "    print(\"Pelanggan ke-\", key)\n",
    "    #looping\n",
    "    for key2 in value:\n",
    "        print(key2, value[key2], sep=': ')\n",
    "    print()"
   ]
  },
  {
   "cell_type": "markdown",
   "metadata": {},
   "source": [
    "## tuple (tidak bisa diganti)"
   ]
  },
  {
   "cell_type": "code",
   "execution_count": 59,
   "metadata": {},
   "outputs": [
    {
     "name": "stdout",
     "output_type": "stream",
     "text": [
      "('kucing', 'anjing', 'ayam', 'sapi')\n",
      "<class 'tuple'>\n"
     ]
    }
   ],
   "source": [
    "tup=('kucing','anjing','ayam','sapi')\n",
    "print(tup)\n",
    "print(type(tup))"
   ]
  },
  {
   "cell_type": "code",
   "execution_count": 60,
   "metadata": {},
   "outputs": [
    {
     "name": "stdout",
     "output_type": "stream",
     "text": [
      "4\n"
     ]
    }
   ],
   "source": [
    "print(len(tup))"
   ]
  },
  {
   "cell_type": "code",
   "execution_count": 61,
   "metadata": {},
   "outputs": [
    {
     "name": "stdout",
     "output_type": "stream",
     "text": [
      "anjing\n"
     ]
    }
   ],
   "source": [
    "print(tup[1])"
   ]
  },
  {
   "cell_type": "code",
   "execution_count": 68,
   "metadata": {},
   "outputs": [
    {
     "name": "stdout",
     "output_type": "stream",
     "text": [
      "['kucing', 'anjing', 'ayam', 'sapi']\n",
      "['kucing', 'kelinci', 'ayam', 'sapi']\n",
      "('kucing', 'kelinci', 'ayam', 'sapi')\n"
     ]
    }
   ],
   "source": [
    "#convert tuple\n",
    "tup_2=list(tup)\n",
    "print(tup_2)\n",
    "tup_2[1]='kelinci'\n",
    "print(tup_2)\n",
    "tup_3=tuple(tup_2)\n",
    "print(tup_3)"
   ]
  },
  {
   "cell_type": "markdown",
   "metadata": {},
   "source": [
    "## set"
   ]
  },
  {
   "cell_type": "code",
   "execution_count": 69,
   "metadata": {},
   "outputs": [
    {
     "name": "stdout",
     "output_type": "stream",
     "text": [
      "{'London', 'Berlin', 'Amsterdam', 'Madrid', 'Roma', 'Paris'} <class 'set'>\n"
     ]
    }
   ],
   "source": [
    "set_1={'Berlin','London','Paris','Amsterdam','Roma','Madrid'}\n",
    "print(set_1,type(set_1))"
   ]
  },
  {
   "cell_type": "code",
   "execution_count": 71,
   "metadata": {},
   "outputs": [
    {
     "name": "stdout",
     "output_type": "stream",
     "text": [
      "{1, 2, 3, 4, 5, 7, 8, 9}\n"
     ]
    }
   ],
   "source": [
    "set_angka={1,2,2,3,3,4,5,8,7,9}\n",
    "print(set_angka)"
   ]
  },
  {
   "cell_type": "code",
   "execution_count": 76,
   "metadata": {},
   "outputs": [
    {
     "name": "stdout",
     "output_type": "stream",
     "text": [
      "{'London', 'Berlin', 'Amsterdam', 'Madrid', 'Roma', 'Paris'}\n"
     ]
    }
   ],
   "source": [
    "set_kota={'Berlin','London','Paris','Amsterdam','Roma','Madrid'}\n",
    "print(set_kota)"
   ]
  },
  {
   "cell_type": "code",
   "execution_count": 78,
   "metadata": {},
   "outputs": [
    {
     "name": "stdout",
     "output_type": "stream",
     "text": [
      "{1, 3, 5, 7, 9}\n",
      "{1, 2, 3, 4, 5, 6, 7, 8, 9, 10, 11, 12, 13, 14, 15, 16, 17}\n"
     ]
    }
   ],
   "source": [
    "set_11={1,2,3,4,5,6,7,8,9,10}\n",
    "set_12={1,3,5,7,9,11,12,13,14,15,16,17}\n",
    "print(set_11 & set_12)\n",
    "print(set_11 | set_12)"
   ]
  },
  {
   "cell_type": "code",
   "execution_count": null,
   "metadata": {},
   "outputs": [],
   "source": []
  },
  {
   "cell_type": "code",
   "execution_count": null,
   "metadata": {},
   "outputs": [],
   "source": []
  }
 ],
 "metadata": {
  "kernelspec": {
   "display_name": "Python 3",
   "language": "python",
   "name": "python3"
  },
  "language_info": {
   "codemirror_mode": {
    "name": "ipython",
    "version": 3
   },
   "file_extension": ".py",
   "mimetype": "text/x-python",
   "name": "python",
   "nbconvert_exporter": "python",
   "pygments_lexer": "ipython3",
   "version": "3.8.5"
  }
 },
 "nbformat": 4,
 "nbformat_minor": 4
}
