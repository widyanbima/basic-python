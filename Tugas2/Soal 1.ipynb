{
 "cells": [
  {
   "cell_type": "code",
   "execution_count": 2,
   "metadata": {},
   "outputs": [
    {
     "name": "stdout",
     "output_type": "stream",
     "text": [
      "Selamat datang! \n",
      "--Menu-- \n",
      "1. Daftar Kontak \n",
      "2. Tambah Kontak \n",
      "3. Keluar\n",
      "Pilih menu: 2\n",
      "Nama Baru: tora\n",
      "Nomor Telepon Baru: 4444\n",
      "Kontak berhasil ditambahkan\n",
      "Pilih menu: 1\n",
      "Nama: Indy\n",
      "No Telepon: 0123456789\n",
      "Nama: Prabu\n",
      "No Telepon: 0987654321\n",
      "Nama: Nana\n",
      "No Telepon: 0999999999\n",
      "Nama: tora\n",
      "No Telepon: 4444\n",
      "Pilih menu: 2\n",
      "Nama Baru: taro\n",
      "Nomor Telepon Baru: 55555\n",
      "Kontak berhasil ditambahkan\n",
      "Pilih menu: 1\n",
      "Nama: Indy\n",
      "No Telepon: 0123456789\n",
      "Nama: Prabu\n",
      "No Telepon: 0987654321\n",
      "Nama: Nana\n",
      "No Telepon: 0999999999\n",
      "Nama: tora\n",
      "No Telepon: 4444\n",
      "Nama: taro\n",
      "No Telepon: 55555\n",
      "Pilih menu: 3\n",
      "Program selesai, sampai jumpa!\n"
     ]
    }
   ],
   "source": [
    "def pembuka():\n",
    "    print(\"Selamat datang!\",\"\\n--Menu--\",'\\n1. Daftar Kontak','\\n2. Tambah Kontak', '\\n3. Keluar')\n",
    "pembuka()\n",
    "def menu2():\n",
    "    for item in list_data:\n",
    "        for k, v in item.items():\n",
    "            print(k, v, sep=': ')\n",
    "list_data=\\\n",
    "[{'Nama':'Indy','No Telepon':'0123456789'},\n",
    "{'Nama':'Prabu','No Telepon':'0987654321'},\n",
    "{'Nama':'Nana','No Telepon':'0999999999'}]\n",
    "\n",
    "\n",
    "\n",
    "\n",
    "            \n",
    "\n",
    "loop=True\n",
    "\n",
    "while loop:\n",
    "    menu=int(input(\"Pilih menu: \"))\n",
    "    if menu == 1: \n",
    "       menu2()\n",
    "    elif menu == 2:\n",
    "        masukkan1=input(\"Nama Baru: \")\n",
    "        masukkan2=input(\"Nomor Telepon Baru: \")\n",
    "        dd=dict()\n",
    "        dd['Nama']=masukkan1\n",
    "        dd['No Telepon']=masukkan2\n",
    "\n",
    "        list_data.append(dd)\n",
    "        print(\"Kontak berhasil ditambahkan\")\n",
    "        loop=True\n",
    "    elif menu == 3:\n",
    "        print(\"Program selesai, sampai jumpa!\")\n",
    "        loop=False\n",
    "    else:\n",
    "        print(\"Menu tidak tersedia\")\n",
    "        loop=True    "
   ]
  },
  {
   "cell_type": "code",
   "execution_count": null,
   "metadata": {},
   "outputs": [],
   "source": []
  }
 ],
 "metadata": {
  "kernelspec": {
   "display_name": "Python 3",
   "language": "python",
   "name": "python3"
  },
  "language_info": {
   "codemirror_mode": {
    "name": "ipython",
    "version": 3
   },
   "file_extension": ".py",
   "mimetype": "text/x-python",
   "name": "python",
   "nbconvert_exporter": "python",
   "pygments_lexer": "ipython3",
   "version": "3.8.5"
  }
 },
 "nbformat": 4,
 "nbformat_minor": 4
}
